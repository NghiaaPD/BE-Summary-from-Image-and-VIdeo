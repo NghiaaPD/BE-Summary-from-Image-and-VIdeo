{
 "cells": [
  {
   "cell_type": "code",
   "execution_count": 4,
   "id": "initial_id",
   "metadata": {
    "collapsed": true,
    "ExecuteTime": {
     "end_time": "2024-10-04T11:31:35.401403Z",
     "start_time": "2024-10-04T11:31:32.699174Z"
    }
   },
   "outputs": [
    {
     "data": {
      "text/plain": "config.json:   0%|          | 0.00/2.43k [00:00<?, ?B/s]",
      "application/vnd.jupyter.widget-view+json": {
       "version_major": 2,
       "version_minor": 0,
       "model_id": "a304faa79c7749989351fabf6a0fbdfb"
      }
     },
     "metadata": {},
     "output_type": "display_data"
    },
    {
     "data": {
      "text/plain": "configuration_florence2.py:   0%|          | 0.00/15.1k [00:00<?, ?B/s]",
      "application/vnd.jupyter.widget-view+json": {
       "version_major": 2,
       "version_minor": 0,
       "model_id": "fcab728d3bed4ec8addde9afb0fc6779"
      }
     },
     "metadata": {},
     "output_type": "display_data"
    },
    {
     "name": "stderr",
     "output_type": "stream",
     "text": [
      "A new version of the following files was downloaded from https://huggingface.co/microsoft/Florence-2-base-ft:\n",
      "- configuration_florence2.py\n",
      ". Make sure to double-check they do not contain any added malicious code. To avoid downloading new versions of the code file, you can pin a revision.\n"
     ]
    },
    {
     "data": {
      "text/plain": "modeling_florence2.py:   0%|          | 0.00/127k [00:00<?, ?B/s]",
      "application/vnd.jupyter.widget-view+json": {
       "version_major": 2,
       "version_minor": 0,
       "model_id": "f70cc2d731bc439eae9a84eafcdfb219"
      }
     },
     "metadata": {},
     "output_type": "display_data"
    },
    {
     "ename": "ImportError",
     "evalue": "This modeling file requires the following packages that were not found in your environment: flash_attn. Run `pip install flash_attn`",
     "output_type": "error",
     "traceback": [
      "\u001B[1;31m---------------------------------------------------------------------------\u001B[0m",
      "\u001B[1;31mImportError\u001B[0m                               Traceback (most recent call last)",
      "Cell \u001B[1;32mIn[4], line 7\u001B[0m\n\u001B[0;32m      4\u001B[0m \u001B[38;5;28;01mimport\u001B[39;00m \u001B[38;5;21;01mcopy\u001B[39;00m\n\u001B[0;32m      6\u001B[0m model_id \u001B[38;5;241m=\u001B[39m \u001B[38;5;124m'\u001B[39m\u001B[38;5;124mmicrosoft/Florence-2-base-ft\u001B[39m\u001B[38;5;124m'\u001B[39m\n\u001B[1;32m----> 7\u001B[0m model \u001B[38;5;241m=\u001B[39m AutoModelForCausalLM\u001B[38;5;241m.\u001B[39mfrom_pretrained(model_id, trust_remote_code\u001B[38;5;241m=\u001B[39m\u001B[38;5;28;01mTrue\u001B[39;00m)\u001B[38;5;241m.\u001B[39meval()\u001B[38;5;241m.\u001B[39mcuda()\n\u001B[0;32m      8\u001B[0m processor \u001B[38;5;241m=\u001B[39m AutoProcessor\u001B[38;5;241m.\u001B[39mfrom_pretrained(model_id, trust_remote_code\u001B[38;5;241m=\u001B[39m\u001B[38;5;28;01mTrue\u001B[39;00m)\n\u001B[0;32m     10\u001B[0m \u001B[38;5;28;01mdef\u001B[39;00m \u001B[38;5;21mcaption\u001B[39m(task_prompt, text_input\u001B[38;5;241m=\u001B[39m\u001B[38;5;28;01mNone\u001B[39;00m):\n",
      "File \u001B[1;32mD:\\anaconda3\\Lib\\site-packages\\transformers\\models\\auto\\auto_factory.py:550\u001B[0m, in \u001B[0;36m_BaseAutoModelClass.from_pretrained\u001B[1;34m(cls, pretrained_model_name_or_path, *model_args, **kwargs)\u001B[0m\n\u001B[0;32m    548\u001B[0m \u001B[38;5;28;01mif\u001B[39;00m has_remote_code \u001B[38;5;129;01mand\u001B[39;00m trust_remote_code:\n\u001B[0;32m    549\u001B[0m     class_ref \u001B[38;5;241m=\u001B[39m config\u001B[38;5;241m.\u001B[39mauto_map[\u001B[38;5;28mcls\u001B[39m\u001B[38;5;241m.\u001B[39m\u001B[38;5;18m__name__\u001B[39m]\n\u001B[1;32m--> 550\u001B[0m     model_class \u001B[38;5;241m=\u001B[39m get_class_from_dynamic_module(\n\u001B[0;32m    551\u001B[0m         class_ref, pretrained_model_name_or_path, code_revision\u001B[38;5;241m=\u001B[39mcode_revision, \u001B[38;5;241m*\u001B[39m\u001B[38;5;241m*\u001B[39mhub_kwargs, \u001B[38;5;241m*\u001B[39m\u001B[38;5;241m*\u001B[39mkwargs\n\u001B[0;32m    552\u001B[0m     )\n\u001B[0;32m    553\u001B[0m     _ \u001B[38;5;241m=\u001B[39m hub_kwargs\u001B[38;5;241m.\u001B[39mpop(\u001B[38;5;124m\"\u001B[39m\u001B[38;5;124mcode_revision\u001B[39m\u001B[38;5;124m\"\u001B[39m, \u001B[38;5;28;01mNone\u001B[39;00m)\n\u001B[0;32m    554\u001B[0m     \u001B[38;5;28;01mif\u001B[39;00m os\u001B[38;5;241m.\u001B[39mpath\u001B[38;5;241m.\u001B[39misdir(pretrained_model_name_or_path):\n",
      "File \u001B[1;32mD:\\anaconda3\\Lib\\site-packages\\transformers\\dynamic_module_utils.py:498\u001B[0m, in \u001B[0;36mget_class_from_dynamic_module\u001B[1;34m(class_reference, pretrained_model_name_or_path, cache_dir, force_download, resume_download, proxies, token, revision, local_files_only, repo_type, code_revision, **kwargs)\u001B[0m\n\u001B[0;32m    496\u001B[0m     code_revision \u001B[38;5;241m=\u001B[39m revision\n\u001B[0;32m    497\u001B[0m \u001B[38;5;66;03m# And lastly we get the class inside our newly created module\u001B[39;00m\n\u001B[1;32m--> 498\u001B[0m final_module \u001B[38;5;241m=\u001B[39m get_cached_module_file(\n\u001B[0;32m    499\u001B[0m     repo_id,\n\u001B[0;32m    500\u001B[0m     module_file \u001B[38;5;241m+\u001B[39m \u001B[38;5;124m\"\u001B[39m\u001B[38;5;124m.py\u001B[39m\u001B[38;5;124m\"\u001B[39m,\n\u001B[0;32m    501\u001B[0m     cache_dir\u001B[38;5;241m=\u001B[39mcache_dir,\n\u001B[0;32m    502\u001B[0m     force_download\u001B[38;5;241m=\u001B[39mforce_download,\n\u001B[0;32m    503\u001B[0m     resume_download\u001B[38;5;241m=\u001B[39mresume_download,\n\u001B[0;32m    504\u001B[0m     proxies\u001B[38;5;241m=\u001B[39mproxies,\n\u001B[0;32m    505\u001B[0m     token\u001B[38;5;241m=\u001B[39mtoken,\n\u001B[0;32m    506\u001B[0m     revision\u001B[38;5;241m=\u001B[39mcode_revision,\n\u001B[0;32m    507\u001B[0m     local_files_only\u001B[38;5;241m=\u001B[39mlocal_files_only,\n\u001B[0;32m    508\u001B[0m     repo_type\u001B[38;5;241m=\u001B[39mrepo_type,\n\u001B[0;32m    509\u001B[0m )\n\u001B[0;32m    510\u001B[0m \u001B[38;5;28;01mreturn\u001B[39;00m get_class_in_module(class_name, final_module)\n",
      "File \u001B[1;32mD:\\anaconda3\\Lib\\site-packages\\transformers\\dynamic_module_utils.py:323\u001B[0m, in \u001B[0;36mget_cached_module_file\u001B[1;34m(pretrained_model_name_or_path, module_file, cache_dir, force_download, resume_download, proxies, token, revision, local_files_only, repo_type, _commit_hash, **deprecated_kwargs)\u001B[0m\n\u001B[0;32m    320\u001B[0m     \u001B[38;5;28;01mraise\u001B[39;00m\n\u001B[0;32m    322\u001B[0m \u001B[38;5;66;03m# Check we have all the requirements in our environment\u001B[39;00m\n\u001B[1;32m--> 323\u001B[0m modules_needed \u001B[38;5;241m=\u001B[39m check_imports(resolved_module_file)\n\u001B[0;32m    325\u001B[0m \u001B[38;5;66;03m# Now we move the module inside our cached dynamic modules.\u001B[39;00m\n\u001B[0;32m    326\u001B[0m full_submodule \u001B[38;5;241m=\u001B[39m TRANSFORMERS_DYNAMIC_MODULE_NAME \u001B[38;5;241m+\u001B[39m os\u001B[38;5;241m.\u001B[39mpath\u001B[38;5;241m.\u001B[39msep \u001B[38;5;241m+\u001B[39m submodule\n",
      "File \u001B[1;32mD:\\anaconda3\\Lib\\site-packages\\transformers\\dynamic_module_utils.py:181\u001B[0m, in \u001B[0;36mcheck_imports\u001B[1;34m(filename)\u001B[0m\n\u001B[0;32m    178\u001B[0m         missing_packages\u001B[38;5;241m.\u001B[39mappend(imp)\n\u001B[0;32m    180\u001B[0m \u001B[38;5;28;01mif\u001B[39;00m \u001B[38;5;28mlen\u001B[39m(missing_packages) \u001B[38;5;241m>\u001B[39m \u001B[38;5;241m0\u001B[39m:\n\u001B[1;32m--> 181\u001B[0m     \u001B[38;5;28;01mraise\u001B[39;00m \u001B[38;5;167;01mImportError\u001B[39;00m(\n\u001B[0;32m    182\u001B[0m         \u001B[38;5;124m\"\u001B[39m\u001B[38;5;124mThis modeling file requires the following packages that were not found in your environment: \u001B[39m\u001B[38;5;124m\"\u001B[39m\n\u001B[0;32m    183\u001B[0m         \u001B[38;5;124mf\u001B[39m\u001B[38;5;124m\"\u001B[39m\u001B[38;5;132;01m{\u001B[39;00m\u001B[38;5;124m'\u001B[39m\u001B[38;5;124m, \u001B[39m\u001B[38;5;124m'\u001B[39m\u001B[38;5;241m.\u001B[39mjoin(missing_packages)\u001B[38;5;132;01m}\u001B[39;00m\u001B[38;5;124m. Run `pip install \u001B[39m\u001B[38;5;132;01m{\u001B[39;00m\u001B[38;5;124m'\u001B[39m\u001B[38;5;124m \u001B[39m\u001B[38;5;124m'\u001B[39m\u001B[38;5;241m.\u001B[39mjoin(missing_packages)\u001B[38;5;132;01m}\u001B[39;00m\u001B[38;5;124m`\u001B[39m\u001B[38;5;124m\"\u001B[39m\n\u001B[0;32m    184\u001B[0m     )\n\u001B[0;32m    186\u001B[0m \u001B[38;5;28;01mreturn\u001B[39;00m get_relative_imports(filename)\n",
      "\u001B[1;31mImportError\u001B[0m: This modeling file requires the following packages that were not found in your environment: flash_attn. Run `pip install flash_attn`"
     ]
    }
   ],
   "source": [
    "from transformers import AutoProcessor, AutoModelForCausalLM\n",
    "from PIL import Image\n",
    "\n",
    "\n",
    "model_id = 'microsoft/Florence-2-base-ft'\n",
    "model = AutoModelForCausalLM.from_pretrained(model_id, trust_remote_code=True).eval().cuda()\n",
    "processor = AutoProcessor.from_pretrained(model_id, trust_remote_code=True)\n",
    "\n",
    "def caption(task_prompt, text_input=None):\n",
    "    if text_input is None:\n",
    "        prompt = task_prompt\n",
    "    else:\n",
    "        prompt = task_prompt + text_input\n",
    "\n",
    "    inputs = processor(text=prompt, images=image, return_tensors=\"pt\").to(\"cuda:0\")\n",
    "    generated_ids = model.generate(\n",
    "        input_ids=inputs[\"input_ids\"].cuda(),\n",
    "        pixel_values=inputs[\"pixel_values\"].cuda(),\n",
    "        max_new_tokens=1500,\n",
    "        early_stopping=False,\n",
    "        do_sample=False,\n",
    "        num_beams=3,\n",
    "    )\n",
    "    generated_text = processor.batch_decode(generated_ids, skip_special_tokens=False)[0]\n",
    "    parsed_answer = processor.post_process_generation(\n",
    "        generated_text,\n",
    "        task=task_prompt,\n",
    "        image_size=(image.width, image.height)\n",
    "    )\n",
    "\n",
    "    return parsed_answer"
   ]
  },
  {
   "cell_type": "code",
   "execution_count": 2,
   "outputs": [
    {
     "ename": "ImportError",
     "evalue": "This modeling file requires the following packages that were not found in your environment: flash_attn. Run `pip install flash_attn`",
     "output_type": "error",
     "traceback": [
      "\u001B[1;31m---------------------------------------------------------------------------\u001B[0m",
      "\u001B[1;31mImportError\u001B[0m                               Traceback (most recent call last)",
      "Cell \u001B[1;32mIn[2], line 9\u001B[0m\n\u001B[0;32m      6\u001B[0m local_dir \u001B[38;5;241m=\u001B[39m \u001B[38;5;124m'\u001B[39m\u001B[38;5;124m./models/Florence-2\u001B[39m\u001B[38;5;124m'\u001B[39m\n\u001B[0;32m      8\u001B[0m \u001B[38;5;66;03m# Download model and save to local directory\u001B[39;00m\n\u001B[1;32m----> 9\u001B[0m model \u001B[38;5;241m=\u001B[39m AutoModelForCausalLM\u001B[38;5;241m.\u001B[39mfrom_pretrained(model_id, trust_remote_code\u001B[38;5;241m=\u001B[39m\u001B[38;5;28;01mTrue\u001B[39;00m, cache_dir\u001B[38;5;241m=\u001B[39mlocal_dir)\u001B[38;5;241m.\u001B[39mto(\u001B[38;5;124m\"\u001B[39m\u001B[38;5;124mcuda\u001B[39m\u001B[38;5;124m\"\u001B[39m)\n\u001B[0;32m     10\u001B[0m processor \u001B[38;5;241m=\u001B[39m AutoProcessor\u001B[38;5;241m.\u001B[39mfrom_pretrained(model_id, trust_remote_code\u001B[38;5;241m=\u001B[39m\u001B[38;5;28;01mTrue\u001B[39;00m, cache_dir\u001B[38;5;241m=\u001B[39mlocal_dir)\n\u001B[0;32m     12\u001B[0m \u001B[38;5;28mprint\u001B[39m(\u001B[38;5;124m\"\u001B[39m\u001B[38;5;124mModel and processor downloaded to:\u001B[39m\u001B[38;5;124m\"\u001B[39m, local_dir)\n",
      "File \u001B[1;32mD:\\anaconda3\\Lib\\site-packages\\transformers\\models\\auto\\auto_factory.py:550\u001B[0m, in \u001B[0;36m_BaseAutoModelClass.from_pretrained\u001B[1;34m(cls, pretrained_model_name_or_path, *model_args, **kwargs)\u001B[0m\n\u001B[0;32m    548\u001B[0m \u001B[38;5;28;01mif\u001B[39;00m has_remote_code \u001B[38;5;129;01mand\u001B[39;00m trust_remote_code:\n\u001B[0;32m    549\u001B[0m     class_ref \u001B[38;5;241m=\u001B[39m config\u001B[38;5;241m.\u001B[39mauto_map[\u001B[38;5;28mcls\u001B[39m\u001B[38;5;241m.\u001B[39m\u001B[38;5;18m__name__\u001B[39m]\n\u001B[1;32m--> 550\u001B[0m     model_class \u001B[38;5;241m=\u001B[39m get_class_from_dynamic_module(\n\u001B[0;32m    551\u001B[0m         class_ref, pretrained_model_name_or_path, code_revision\u001B[38;5;241m=\u001B[39mcode_revision, \u001B[38;5;241m*\u001B[39m\u001B[38;5;241m*\u001B[39mhub_kwargs, \u001B[38;5;241m*\u001B[39m\u001B[38;5;241m*\u001B[39mkwargs\n\u001B[0;32m    552\u001B[0m     )\n\u001B[0;32m    553\u001B[0m     _ \u001B[38;5;241m=\u001B[39m hub_kwargs\u001B[38;5;241m.\u001B[39mpop(\u001B[38;5;124m\"\u001B[39m\u001B[38;5;124mcode_revision\u001B[39m\u001B[38;5;124m\"\u001B[39m, \u001B[38;5;28;01mNone\u001B[39;00m)\n\u001B[0;32m    554\u001B[0m     \u001B[38;5;28;01mif\u001B[39;00m os\u001B[38;5;241m.\u001B[39mpath\u001B[38;5;241m.\u001B[39misdir(pretrained_model_name_or_path):\n",
      "File \u001B[1;32mD:\\anaconda3\\Lib\\site-packages\\transformers\\dynamic_module_utils.py:498\u001B[0m, in \u001B[0;36mget_class_from_dynamic_module\u001B[1;34m(class_reference, pretrained_model_name_or_path, cache_dir, force_download, resume_download, proxies, token, revision, local_files_only, repo_type, code_revision, **kwargs)\u001B[0m\n\u001B[0;32m    496\u001B[0m     code_revision \u001B[38;5;241m=\u001B[39m revision\n\u001B[0;32m    497\u001B[0m \u001B[38;5;66;03m# And lastly we get the class inside our newly created module\u001B[39;00m\n\u001B[1;32m--> 498\u001B[0m final_module \u001B[38;5;241m=\u001B[39m get_cached_module_file(\n\u001B[0;32m    499\u001B[0m     repo_id,\n\u001B[0;32m    500\u001B[0m     module_file \u001B[38;5;241m+\u001B[39m \u001B[38;5;124m\"\u001B[39m\u001B[38;5;124m.py\u001B[39m\u001B[38;5;124m\"\u001B[39m,\n\u001B[0;32m    501\u001B[0m     cache_dir\u001B[38;5;241m=\u001B[39mcache_dir,\n\u001B[0;32m    502\u001B[0m     force_download\u001B[38;5;241m=\u001B[39mforce_download,\n\u001B[0;32m    503\u001B[0m     resume_download\u001B[38;5;241m=\u001B[39mresume_download,\n\u001B[0;32m    504\u001B[0m     proxies\u001B[38;5;241m=\u001B[39mproxies,\n\u001B[0;32m    505\u001B[0m     token\u001B[38;5;241m=\u001B[39mtoken,\n\u001B[0;32m    506\u001B[0m     revision\u001B[38;5;241m=\u001B[39mcode_revision,\n\u001B[0;32m    507\u001B[0m     local_files_only\u001B[38;5;241m=\u001B[39mlocal_files_only,\n\u001B[0;32m    508\u001B[0m     repo_type\u001B[38;5;241m=\u001B[39mrepo_type,\n\u001B[0;32m    509\u001B[0m )\n\u001B[0;32m    510\u001B[0m \u001B[38;5;28;01mreturn\u001B[39;00m get_class_in_module(class_name, final_module)\n",
      "File \u001B[1;32mD:\\anaconda3\\Lib\\site-packages\\transformers\\dynamic_module_utils.py:323\u001B[0m, in \u001B[0;36mget_cached_module_file\u001B[1;34m(pretrained_model_name_or_path, module_file, cache_dir, force_download, resume_download, proxies, token, revision, local_files_only, repo_type, _commit_hash, **deprecated_kwargs)\u001B[0m\n\u001B[0;32m    320\u001B[0m     \u001B[38;5;28;01mraise\u001B[39;00m\n\u001B[0;32m    322\u001B[0m \u001B[38;5;66;03m# Check we have all the requirements in our environment\u001B[39;00m\n\u001B[1;32m--> 323\u001B[0m modules_needed \u001B[38;5;241m=\u001B[39m check_imports(resolved_module_file)\n\u001B[0;32m    325\u001B[0m \u001B[38;5;66;03m# Now we move the module inside our cached dynamic modules.\u001B[39;00m\n\u001B[0;32m    326\u001B[0m full_submodule \u001B[38;5;241m=\u001B[39m TRANSFORMERS_DYNAMIC_MODULE_NAME \u001B[38;5;241m+\u001B[39m os\u001B[38;5;241m.\u001B[39mpath\u001B[38;5;241m.\u001B[39msep \u001B[38;5;241m+\u001B[39m submodule\n",
      "File \u001B[1;32mD:\\anaconda3\\Lib\\site-packages\\transformers\\dynamic_module_utils.py:181\u001B[0m, in \u001B[0;36mcheck_imports\u001B[1;34m(filename)\u001B[0m\n\u001B[0;32m    178\u001B[0m         missing_packages\u001B[38;5;241m.\u001B[39mappend(imp)\n\u001B[0;32m    180\u001B[0m \u001B[38;5;28;01mif\u001B[39;00m \u001B[38;5;28mlen\u001B[39m(missing_packages) \u001B[38;5;241m>\u001B[39m \u001B[38;5;241m0\u001B[39m:\n\u001B[1;32m--> 181\u001B[0m     \u001B[38;5;28;01mraise\u001B[39;00m \u001B[38;5;167;01mImportError\u001B[39;00m(\n\u001B[0;32m    182\u001B[0m         \u001B[38;5;124m\"\u001B[39m\u001B[38;5;124mThis modeling file requires the following packages that were not found in your environment: \u001B[39m\u001B[38;5;124m\"\u001B[39m\n\u001B[0;32m    183\u001B[0m         \u001B[38;5;124mf\u001B[39m\u001B[38;5;124m\"\u001B[39m\u001B[38;5;132;01m{\u001B[39;00m\u001B[38;5;124m'\u001B[39m\u001B[38;5;124m, \u001B[39m\u001B[38;5;124m'\u001B[39m\u001B[38;5;241m.\u001B[39mjoin(missing_packages)\u001B[38;5;132;01m}\u001B[39;00m\u001B[38;5;124m. Run `pip install \u001B[39m\u001B[38;5;132;01m{\u001B[39;00m\u001B[38;5;124m'\u001B[39m\u001B[38;5;124m \u001B[39m\u001B[38;5;124m'\u001B[39m\u001B[38;5;241m.\u001B[39mjoin(missing_packages)\u001B[38;5;132;01m}\u001B[39;00m\u001B[38;5;124m`\u001B[39m\u001B[38;5;124m\"\u001B[39m\n\u001B[0;32m    184\u001B[0m     )\n\u001B[0;32m    186\u001B[0m \u001B[38;5;28;01mreturn\u001B[39;00m get_relative_imports(filename)\n",
      "\u001B[1;31mImportError\u001B[0m: This modeling file requires the following packages that were not found in your environment: flash_attn. Run `pip install flash_attn`"
     ]
    }
   ],
   "source": [
    "from transformers import AutoProcessor, AutoModelForCausalLM\n",
    "import torch\n",
    "\n",
    "# Set model ID and specify cache location\n",
    "model_id = 'microsoft/Florence-2-base-ft'\n",
    "local_dir = './models/Florence-2'\n",
    "\n",
    "# Download model and save to local directory\n",
    "model = AutoModelForCausalLM.from_pretrained(model_id, trust_remote_code=True, cache_dir=local_dir).to(\"cuda\")\n",
    "processor = AutoProcessor.from_pretrained(model_id, trust_remote_code=True, cache_dir=local_dir)\n",
    "\n",
    "print(\"Model and processor downloaded to:\", local_dir)\n"
   ],
   "metadata": {
    "collapsed": false,
    "ExecuteTime": {
     "end_time": "2024-10-04T11:28:53.689622800Z",
     "start_time": "2024-10-04T11:28:50.091520200Z"
    }
   },
   "id": "34b8b4389e990931"
  },
  {
   "cell_type": "code",
   "execution_count": 5,
   "outputs": [
    {
     "name": "stdout",
     "output_type": "stream",
     "text": [
      "11.8\n",
      "True\n"
     ]
    }
   ],
   "source": [
    "import torch\n",
    "print(torch.version.cuda)  # Kiểm tra phiên bản CUDA\n",
    "print(torch.cuda.is_available())  # Kiểm tra xem CUDA có khả dụng không\n"
   ],
   "metadata": {
    "collapsed": false,
    "ExecuteTime": {
     "end_time": "2024-10-04T11:51:07.201240Z",
     "start_time": "2024-10-04T11:51:07.191234Z"
    }
   },
   "id": "dd028977af465e0d"
  },
  {
   "cell_type": "code",
   "execution_count": null,
   "outputs": [],
   "source": [],
   "metadata": {
    "collapsed": false
   },
   "id": "ceb3fab0d8bec355"
  }
 ],
 "metadata": {
  "kernelspec": {
   "display_name": "Python 3",
   "language": "python",
   "name": "python3"
  },
  "language_info": {
   "codemirror_mode": {
    "name": "ipython",
    "version": 2
   },
   "file_extension": ".py",
   "mimetype": "text/x-python",
   "name": "python",
   "nbconvert_exporter": "python",
   "pygments_lexer": "ipython2",
   "version": "2.7.6"
  }
 },
 "nbformat": 4,
 "nbformat_minor": 5
}
