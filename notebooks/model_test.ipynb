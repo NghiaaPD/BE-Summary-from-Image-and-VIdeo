{
 "cells": [
  {
   "cell_type": "code",
   "execution_count": 5,
   "id": "initial_id",
   "metadata": {
    "ExecuteTime": {
     "end_time": "2024-10-04T11:31:35.401403Z",
     "start_time": "2024-10-04T11:31:32.699174Z"
    },
    "collapsed": true
   },
   "outputs": [
    {
     "name": "stderr",
     "output_type": "stream",
     "text": [
      "C:\\Users\\BangBui\\AppData\\Roaming\\Python\\Python310\\site-packages\\transformers\\tokenization_utils_base.py:1617: FutureWarning: `clean_up_tokenization_spaces` was not set. It will be set to `True` by default. This behavior will be deprecated in transformers v4.45, and will be then set to `False` by default. For more details check this issue: https://github.com/huggingface/transformers/issues/31884\n",
      "  warnings.warn(\n"
     ]
    }
   ],
   "source": [
    "from transformers import AutoProcessor, AutoModelForCausalLM\n",
    "from PIL import Image\n",
    "\n",
    "\n",
    "model_id = 'microsoft/Florence-2-base-ft'\n",
    "model = AutoModelForCausalLM.from_pretrained(model_id, trust_remote_code=True).eval().cuda()\n",
    "processor = AutoProcessor.from_pretrained(model_id, trust_remote_code=True)\n",
    "\n",
    "def caption(task_prompt, image, text_input=None):\n",
    "    if text_input is None:\n",
    "        prompt = task_prompt\n",
    "    else:\n",
    "        prompt = task_prompt + text_input\n",
    "\n",
    "    inputs = processor(text=prompt, images=image, return_tensors=\"pt\").to(\"cuda:0\")\n",
    "    generated_ids = model.generate(\n",
    "        input_ids=inputs[\"input_ids\"].cuda(),\n",
    "        pixel_values=inputs[\"pixel_values\"].cuda(),\n",
    "        max_new_tokens=1500,\n",
    "        early_stopping=False,\n",
    "        do_sample=False,\n",
    "        num_beams=3,\n",
    "    )\n",
    "    generated_text = processor.batch_decode(generated_ids, skip_special_tokens=False)[0]\n",
    "    parsed_answer = processor.post_process_generation(\n",
    "        generated_text,\n",
    "        task=task_prompt,\n",
    "        image_size=(image.width, image.height)\n",
    "    )\n",
    "\n",
    "    return parsed_answer"
   ]
  },
  {
   "cell_type": "code",
   "execution_count": 6,
   "id": "34b8b4389e990931",
   "metadata": {
    "ExecuteTime": {
     "end_time": "2024-10-04T11:28:53.689622800Z",
     "start_time": "2024-10-04T11:28:50.091520200Z"
    },
    "collapsed": false
   },
   "outputs": [
    {
     "name": "stdout",
     "output_type": "stream",
     "text": [
      "{'<MORE_DETAILED_CAPTION>': 'A woman is sitting on a bed. She is wearing a green bra. She has long brown hair. There is a red blanket on the bed behind her. '}\n"
     ]
    }
   ],
   "source": [
    "image = Image.open(\"./images.png\").convert(\"RGB\")\n",
    "\n",
    "task_prompt = \"<MORE_DETAILED_CAPTION>\"\n",
    "\n",
    "answer = caption(task_prompt=task_prompt, image=image)\n",
    "\n",
    "print(answer)"
   ]
  },
  {
   "cell_type": "code",
   "execution_count": 5,
   "id": "dd028977af465e0d",
   "metadata": {
    "ExecuteTime": {
     "end_time": "2024-10-04T11:51:07.201240Z",
     "start_time": "2024-10-04T11:51:07.191234Z"
    },
    "collapsed": false
   },
   "outputs": [
    {
     "name": "stdout",
     "output_type": "stream",
     "text": [
      "11.8\n",
      "True\n"
     ]
    }
   ],
   "source": [
    "import torch\n",
    "print(torch.version.cuda)  # Kiểm tra phiên bản CUDA\n",
    "print(torch.cuda.is_available())  # Kiểm tra xem CUDA có khả dụng không\n"
   ]
  },
  {
   "cell_type": "code",
   "execution_count": null,
   "id": "ceb3fab0d8bec355",
   "metadata": {
    "collapsed": false
   },
   "outputs": [],
   "source": []
  }
 ],
 "metadata": {
  "kernelspec": {
   "display_name": "Python 3",
   "language": "python",
   "name": "python3"
  },
  "language_info": {
   "codemirror_mode": {
    "name": "ipython",
    "version": 3
   },
   "file_extension": ".py",
   "mimetype": "text/x-python",
   "name": "python",
   "nbconvert_exporter": "python",
   "pygments_lexer": "ipython3",
   "version": "3.10.15"
  }
 },
 "nbformat": 4,
 "nbformat_minor": 5
}
