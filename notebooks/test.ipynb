{
 "cells": [
  {
   "cell_type": "code",
   "id": "initial_id",
   "metadata": {
    "collapsed": true,
    "ExecuteTime": {
     "end_time": "2024-10-05T03:51:02.750863Z",
     "start_time": "2024-10-05T03:51:01.610217Z"
    }
   },
   "source": [
    "import requests\n",
    "\n",
    "url = \"http://nghiapd.hopto.org:8000/test_data\"\n",
    "\n",
    "# Thông tin cần thiết\n",
    "task_prompt = \"<MORE_DETAILED_CAPTION>\"\n",
    "text_input = \"\"\n",
    "file_path = \"images.png\"\n",
    "\n",
    "# Mở file và gửi request\n",
    "with open(file_path, \"rb\") as f:\n",
    "    files = {\"image\": f}\n",
    "    data = {\n",
    "        \"task_prompt\": task_prompt,\n",
    "        \"text_input\": text_input\n",
    "    }\n",
    "    response = requests.post(url, files=files, data=data)\n",
    "\n",
    "response_json = response.json()\n",
    "detailed_caption = list(response_json[\"message\"].values())[0]  # Lấy giá trị đầu tiên\n",
    "print(detailed_caption)"
   ],
   "outputs": [
    {
     "ename": "KeyError",
     "evalue": "'message'",
     "output_type": "error",
     "traceback": [
      "\u001B[1;31m---------------------------------------------------------------------------\u001B[0m",
      "\u001B[1;31mKeyError\u001B[0m                                  Traceback (most recent call last)",
      "Cell \u001B[1;32mIn[1], line 20\u001B[0m\n\u001B[0;32m     17\u001B[0m     response \u001B[38;5;241m=\u001B[39m requests\u001B[38;5;241m.\u001B[39mpost(url, files\u001B[38;5;241m=\u001B[39mfiles, data\u001B[38;5;241m=\u001B[39mdata)\n\u001B[0;32m     19\u001B[0m response_json \u001B[38;5;241m=\u001B[39m response\u001B[38;5;241m.\u001B[39mjson()\n\u001B[1;32m---> 20\u001B[0m detailed_caption \u001B[38;5;241m=\u001B[39m \u001B[38;5;28mlist\u001B[39m(\u001B[43mresponse_json\u001B[49m\u001B[43m[\u001B[49m\u001B[38;5;124;43m\"\u001B[39;49m\u001B[38;5;124;43mmessage\u001B[39;49m\u001B[38;5;124;43m\"\u001B[39;49m\u001B[43m]\u001B[49m\u001B[38;5;241m.\u001B[39mvalues())[\u001B[38;5;241m0\u001B[39m]  \u001B[38;5;66;03m# Lấy giá trị đầu tiên\u001B[39;00m\n\u001B[0;32m     21\u001B[0m \u001B[38;5;28mprint\u001B[39m(detailed_caption)\n",
      "\u001B[1;31mKeyError\u001B[0m: 'message'"
     ]
    }
   ],
   "execution_count": 1
  },
  {
   "metadata": {},
   "cell_type": "code",
   "outputs": [],
   "execution_count": null,
   "source": "",
   "id": "f308ec75462ea793"
  }
 ],
 "metadata": {
  "kernelspec": {
   "display_name": "Python 3",
   "language": "python",
   "name": "python3"
  },
  "language_info": {
   "codemirror_mode": {
    "name": "ipython",
    "version": 2
   },
   "file_extension": ".py",
   "mimetype": "text/x-python",
   "name": "python",
   "nbconvert_exporter": "python",
   "pygments_lexer": "ipython2",
   "version": "2.7.6"
  }
 },
 "nbformat": 4,
 "nbformat_minor": 5
}
